{
 "cells": [
  {
   "cell_type": "code",
   "execution_count": 1,
   "metadata": {},
   "outputs": [
    {
     "data": {
      "text/html": [
       "<div>\n",
       "<style scoped>\n",
       "    .dataframe tbody tr th:only-of-type {\n",
       "        vertical-align: middle;\n",
       "    }\n",
       "\n",
       "    .dataframe tbody tr th {\n",
       "        vertical-align: top;\n",
       "    }\n",
       "\n",
       "    .dataframe thead th {\n",
       "        text-align: right;\n",
       "    }\n",
       "</style>\n",
       "<table border=\"1\" class=\"dataframe\">\n",
       "  <thead>\n",
       "    <tr style=\"text-align: right;\">\n",
       "      <th></th>\n",
       "      <th>Age</th>\n",
       "      <th>Deaths</th>\n",
       "    </tr>\n",
       "  </thead>\n",
       "  <tbody>\n",
       "    <tr>\n",
       "      <th>0</th>\n",
       "      <td>17.5</td>\n",
       "      <td>38</td>\n",
       "    </tr>\n",
       "    <tr>\n",
       "      <th>1</th>\n",
       "      <td>22.0</td>\n",
       "      <td>36</td>\n",
       "    </tr>\n",
       "    <tr>\n",
       "      <th>2</th>\n",
       "      <td>29.5</td>\n",
       "      <td>24</td>\n",
       "    </tr>\n",
       "    <tr>\n",
       "      <th>3</th>\n",
       "      <td>44.5</td>\n",
       "      <td>20</td>\n",
       "    </tr>\n",
       "    <tr>\n",
       "      <th>4</th>\n",
       "      <td>64.5</td>\n",
       "      <td>18</td>\n",
       "    </tr>\n",
       "    <tr>\n",
       "      <th>5</th>\n",
       "      <td>80.0</td>\n",
       "      <td>28</td>\n",
       "    </tr>\n",
       "  </tbody>\n",
       "</table>\n",
       "</div>"
      ],
      "text/plain": [
       "    Age  Deaths\n",
       "0  17.5      38\n",
       "1  22.0      36\n",
       "2  29.5      24\n",
       "3  44.5      20\n",
       "4  64.5      18\n",
       "5  80.0      28"
      ]
     },
     "execution_count": 1,
     "metadata": {},
     "output_type": "execute_result"
    }
   ],
   "source": [
    "d = {'Age': [17.5,22,29.5,44.5,64.5,80], 'Deaths': [38,36,24,20,18,28]}\n",
    "\n",
    "import pandas as pd\n",
    "\n",
    "data = pd.DataFrame(data=d)\n",
    "\n",
    "data"
   ]
  },
  {
   "cell_type": "code",
   "execution_count": 2,
   "metadata": {},
   "outputs": [
    {
     "name": "stdout",
     "output_type": "stream",
     "text": [
      "There is no interval to calculate the midpoint for the ages\n"
     ]
    }
   ],
   "source": [
    "print(\"There is no interval to calculate the midpoint for the ages\")"
   ]
  },
  {
   "cell_type": "code",
   "execution_count": 3,
   "metadata": {
    "scrolled": true
   },
   "outputs": [
    {
     "data": {
      "image/png": "[encoded data removed]",
      "text/plain": [
       "<Figure size 432x288 with 1 Axes>"
      ]
     },
     "metadata": {},
     "output_type": "display_data"
    }
   ],
   "source": [
    "#“age” as the independent variable and “Number of driver deaths per 100,000” as the dependent variable\n",
    "import matplotlib.pyplot as plt\n",
    "%matplotlib inline \n",
    "plot = data.plot.scatter(x='Age',y='Deaths',c='Red',s=60,alpha=0.8)\n",
    "plt.title('Scatter plot')\n",
    "plt.ylabel('Number of Driver Deaths per 100,000')\n",
    "plt.show()\n"
   ]
  },
  {
   "cell_type": "code",
   "execution_count": 4,
   "metadata": {},
   "outputs": [
    {
     "name": "stdout",
     "output_type": "stream",
     "text": [
      "Least Square (best-fit) line -- y=-0.19182491149018346x+35.58180452741122\n"
     ]
    },
    {
     "data": {
      "image/png": "[encoded data removed]",
      "text/plain": [
       "<Figure size 432x288 with 1 Axes>"
      ]
     },
     "metadata": {},
     "output_type": "display_data"
    }
   ],
   "source": [
    "#calculating the least squares(best fit) line equation\n",
    "import numpy as np\n",
    "\n",
    "X_mean = np.mean(data.Age)\n",
    "y_mean = np.mean(data.Deaths)\n",
    "    \n",
    "numerator = 0\n",
    "denominator = 0\n",
    "    \n",
    "for i in range(len(data.Age)):\n",
    "    numerator += (data.Age[i]-X_mean)*(data.Deaths[i]-y_mean)\n",
    "    denominator += (data.Age[i]-X_mean)**2\n",
    "slope = numerator/denominator\n",
    "constant = y_mean - slope * X_mean\n",
    "    \n",
    "print(\"Least Square (best-fit) line -- \"+ \"y=\"+str(slope)+\"x\"+\"+\"+str(constant))\n",
    "\n",
    "#Making predictions and plotting the line\n",
    "y_prediction = slope*data.Age + constant\n",
    "\n",
    "plot = data.plot.scatter(x='Age',y='Deaths',c='Red',s=60,alpha=0.8)\n",
    "plt.plot(data.Age ,y_prediction, color='Blue')\n",
    "plt.title('Scatter plot')\n",
    "plt.ylabel('Number of Driver Deaths per 100,000')\n",
    "plt.show()\n"
   ]
  },
  {
   "cell_type": "code",
   "execution_count": 5,
   "metadata": {},
   "outputs": [
    {
     "name": "stdout",
     "output_type": "stream",
     "text": [
      "prediction of age 40 is 27.908808067803882\n",
      "prediction of age 60 is 24.072309838000216\n"
     ]
    }
   ],
   "source": [
    "#predicting the number of deaths for ages 40 and 60\n",
    "\n",
    "test = [40,60]\n",
    "for i in test:\n",
    "    test_prediction = slope*i + constant\n",
    "    print(\"prediction of age \"+str(i)+ \" is \" + str(test_prediction))"
   ]
  },
  {
   "cell_type": "code",
   "execution_count": 6,
   "metadata": {},
   "outputs": [
    {
     "data": {
      "image/png": "[encoded data removed]",
      "text/plain": [
       "<Figure size 432x288 with 1 Axes>"
      ]
     },
     "metadata": {},
     "output_type": "display_data"
    },
    {
     "name": "stdout",
     "output_type": "stream",
     "text": [
      "There is linear relation-ship for the data till age 64.5. The last age group 80 is not linear as its shows as increase in deaths compare to prior age groups \n"
     ]
    }
   ],
   "source": [
    "#plotting a graph to show if there is a linear realtion-ship\n",
    "plt.plot(data.Age,data.Deaths)\n",
    "plt.title('Line graph')\n",
    "plt.xlabel('Age')\n",
    "plt.ylabel('Number of Driver Deaths per 100,000')\n",
    "plt.show()\n",
    "\n",
    "print(\"There is linear relation-ship for the data till age 64.5. The last age group 80 is not linear as its shows as increase in deaths compare to prior age groups \")\n"
   ]
  },
  {
   "cell_type": "code",
   "execution_count": 7,
   "metadata": {},
   "outputs": [
    {
     "name": "stdout",
     "output_type": "stream",
     "text": [
      "co-relation coefficient--> -0.578743707566063\n",
      "p_value--> 0.22880788559284734\n",
      "The correlation coefficent -0.578743707566063 it is not significant \n"
     ]
    }
   ],
   "source": [
    "from scipy import stats\n",
    "from scipy.stats import pearsonr\n",
    "relation, p_value = pearsonr(data.Age,data.Deaths)\n",
    "\n",
    "alpha=0.811\n",
    "\n",
    "print(\"co-relation coefficient--> \"+str(relation))\n",
    "print(\"p_value--> \"+str(p_value))\n",
    "print(\"The correlation coefficent \"+str(relation)+\" it is not significant \")"
   ]
  }
 ],
 "metadata": {
  "kernelspec": {
   "display_name": "Python [default]",
   "language": "python",
   "name": "python3"
  },
  "language_info": {
   "codemirror_mode": {
    "name": "ipython",
    "version": 3
   },
   "file_extension": ".py",
   "mimetype": "text/x-python",
   "name": "python",
   "nbconvert_exporter": "python",
   "pygments_lexer": "ipython3",
   "version": "3.6.5"
  }
 },
 "nbformat": 4,
 "nbformat_minor": 2
}
